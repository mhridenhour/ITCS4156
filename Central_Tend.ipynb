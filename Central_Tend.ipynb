{
 "cells": [
  {
   "cell_type": "code",
   "execution_count": 2,
   "metadata": {},
   "outputs": [],
   "source": [
    "nums = [4,9,3,1,8,6,7,5,2,2]"
   ]
  },
  {
   "cell_type": "code",
   "execution_count": 3,
   "metadata": {},
   "outputs": [
    {
     "data": {
      "text/plain": [
       "4.7"
      ]
     },
     "execution_count": 3,
     "metadata": {},
     "output_type": "execute_result"
    }
   ],
   "source": [
    "mean = 0\n",
    "\n",
    "for x in nums:\n",
    "    mean += x\n",
    "    \n",
    "mean = mean/len(nums)\n",
    "mean"
   ]
  },
  {
   "cell_type": "code",
   "execution_count": 5,
   "metadata": {},
   "outputs": [
    {
     "data": {
      "text/plain": [
       "4.5"
      ]
     },
     "execution_count": 5,
     "metadata": {},
     "output_type": "execute_result"
    }
   ],
   "source": [
    "median = 0\n",
    "\n",
    "m_i = len(nums)/2\n",
    "\n",
    "\n",
    "nums.sort()\n",
    "\n",
    "if len(nums)%2 == 0:\n",
    "    median = (nums[int(m_i-.5)]+ nums[int(m_i+.5)])/2\n",
    "    \n",
    "elif len(nums)%2 == 1:\n",
    "    median = nums[m_i]\n",
    "\n",
    "median"
   ]
  },
  {
   "cell_type": "code",
   "execution_count": 7,
   "metadata": {},
   "outputs": [
    {
     "data": {
      "text/plain": [
       "2"
      ]
     },
     "execution_count": 7,
     "metadata": {},
     "output_type": "execute_result"
    }
   ],
   "source": [
    "mode = 0\n",
    "mode_dict = {}\n",
    "for x in nums:\n",
    "    if x in mode_dict.keys():\n",
    "        mode_dict[x] += 1\n",
    "    else:\n",
    "        mode_dict[x] = 1\n",
    "mode = max(mode_dict, key=mode_dict.get)\n",
    "mode"
   ]
  },
  {
   "cell_type": "code",
   "execution_count": null,
   "metadata": {},
   "outputs": [],
   "source": []
  }
 ],
 "metadata": {
  "kernelspec": {
   "display_name": "Python 3",
   "language": "python",
   "name": "python3"
  },
  "language_info": {
   "codemirror_mode": {
    "name": "ipython",
    "version": 3
   },
   "file_extension": ".py",
   "mimetype": "text/x-python",
   "name": "python",
   "nbconvert_exporter": "python",
   "pygments_lexer": "ipython3",
   "version": "3.6.8"
  }
 },
 "nbformat": 4,
 "nbformat_minor": 2
}
